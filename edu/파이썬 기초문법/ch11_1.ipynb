{
 "cells": [
  {
   "cell_type": "code",
   "execution_count": null,
   "metadata": {},
   "outputs": [],
   "source": [
    "# try:\n",
    "#     예외가 발생할 수 있는 코드\n",
    "# except:\n",
    "#     예외 발생 시 실행 할 코드\n",
    "# else:\n",
    "#     예외 발생하지 않은 경우 실행 할 코드\n",
    "# finally:\n",
    "#     항상 실행 할 코드"
   ]
  },
  {
   "cell_type": "code",
   "execution_count": 9,
   "metadata": {},
   "outputs": [
    {
     "name": "stdout",
     "output_type": "stream",
     "text": [
      "650.0\n",
      "예외가 발생하지 않았을 때 실행되는 코드\n",
      "예외가 발생하던지, 안하던지 항상 실행되는 코드\n"
     ]
    }
   ],
   "source": [
    "# 원화를 입력, 환율 입력 -> 달러값\n",
    "\n",
    "won = (input(\"원화를 입력하세요>>>\"))\n",
    "dollar = (input(\"환율을 입력하세요>>>\"))\n",
    "\n",
    "try: # 예외가 발생할 수 있는 코드\n",
    "    print(int(won)/int(dollar))\n",
    "except ValueError as e: # 예외 발생 시 실행 할 코드\n",
    "    print(\"문자열 예외가 발생했습니다.\", e)\n",
    "except ZeroDivisionError as e:\n",
    "    print(\"나누기 0은 불가능 합니다.\", e)\n",
    "else:\n",
    "    print(\"예외가 발생하지 않았을 때 실행되는 코드\")\n",
    "finally:\n",
    "    print(\"예외가 발생하던지, 안하던지 항상 실행되는 코드\")\n"
   ]
  }
 ],
 "metadata": {
  "kernelspec": {
   "display_name": "Python 3",
   "language": "python",
   "name": "python3"
  },
  "language_info": {
   "codemirror_mode": {
    "name": "ipython",
    "version": 3
   },
   "file_extension": ".py",
   "mimetype": "text/x-python",
   "name": "python",
   "nbconvert_exporter": "python",
   "pygments_lexer": "ipython3",
   "version": "3.12.2"
  }
 },
 "nbformat": 4,
 "nbformat_minor": 2
}
