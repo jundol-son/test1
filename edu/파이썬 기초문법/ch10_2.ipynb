{
 "cells": [
  {
   "cell_type": "code",
   "execution_count": 5,
   "metadata": {},
   "outputs": [],
   "source": [
    "#pickle 모듈\n",
    "import pickle\n",
    "data = {\n",
    "    \"목표1\" : \"매일 팔굽혀펴기100회\",\n",
    "    \"목표2\" : \"매일 코딩공부 1시간\"\n",
    "}\n",
    "file = open(\"data.pickle\", \"wb\")\n",
    "#wb = 바이너리(쓰기)\n",
    "pickle.dump(data,file)\n",
    "file.close()"
   ]
  },
  {
   "cell_type": "code",
   "execution_count": 6,
   "metadata": {},
   "outputs": [
    {
     "name": "stdout",
     "output_type": "stream",
     "text": [
      "{'목표1': '매일 팔굽혀펴기100회', '목표2': '매일 코딩공부 1시간'}\n"
     ]
    },
    {
     "data": {
      "text/plain": [
       "<function BufferedReader.close()>"
      ]
     },
     "execution_count": 6,
     "metadata": {},
     "output_type": "execute_result"
    }
   ],
   "source": [
    "#rb = 바이너리(읽기)\n",
    "file = open(\"data.pickle\",\"rb\")\n",
    "data = pickle.load(file)\n",
    "print(data)\n",
    "file.close"
   ]
  },
  {
   "cell_type": "code",
   "execution_count": 8,
   "metadata": {},
   "outputs": [
    {
     "data": {
      "text/plain": [
       "<function TextIOWrapper.close()>"
      ]
     },
     "execution_count": 8,
     "metadata": {},
     "output_type": "execute_result"
    }
   ],
   "source": [
    "#with구문 사용\n",
    "#사용 X\n",
    "file = open(\"data.txt\",\"r\",encoding=\"utf8\")\n",
    "data = file.read()\n",
    "file.close"
   ]
  },
  {
   "cell_type": "code",
   "execution_count": 10,
   "metadata": {},
   "outputs": [
    {
     "data": {
      "text/plain": [
       "<function TextIOWrapper.close()>"
      ]
     },
     "execution_count": 10,
     "metadata": {},
     "output_type": "execute_result"
    }
   ],
   "source": [
    "#사용 O - file.close를 자동으로 호출\n",
    "with open(\"data.txt\",\"r\",encoding=\"utf8\") as file:\n",
    "    data = file.read()"
   ]
  }
 ],
 "metadata": {
  "kernelspec": {
   "display_name": "Python 3",
   "language": "python",
   "name": "python3"
  },
  "language_info": {
   "codemirror_mode": {
    "name": "ipython",
    "version": 3
   },
   "file_extension": ".py",
   "mimetype": "text/x-python",
   "name": "python",
   "nbconvert_exporter": "python",
   "pygments_lexer": "ipython3",
   "version": "3.12.2"
  }
 },
 "nbformat": 4,
 "nbformat_minor": 2
}
