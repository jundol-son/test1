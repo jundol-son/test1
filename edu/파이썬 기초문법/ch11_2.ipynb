{
 "cells": [
  {
   "cell_type": "code",
   "execution_count": 1,
   "metadata": {},
   "outputs": [
    {
     "ename": "Exception",
     "evalue": "에러메세지",
     "output_type": "error",
     "traceback": [
      "\u001b[1;31m---------------------------------------------------------------------------\u001b[0m",
      "\u001b[1;31mException\u001b[0m                                 Traceback (most recent call last)",
      "Cell \u001b[1;32mIn[1], line 2\u001b[0m\n\u001b[0;32m      1\u001b[0m \u001b[38;5;66;03m# raise구문 사용 - 에러를 강제로 발생\u001b[39;00m\n\u001b[1;32m----> 2\u001b[0m \u001b[38;5;28;01mraise\u001b[39;00m \u001b[38;5;167;01mException\u001b[39;00m(\u001b[38;5;124m\"\u001b[39m\u001b[38;5;124m에러메세지\u001b[39m\u001b[38;5;124m\"\u001b[39m)\n",
      "\u001b[1;31mException\u001b[0m: 에러메세지"
     ]
    }
   ],
   "source": [
    "# raise구문 사용 - 에러를 강제로 발생\n",
    "raise Exception(\"에러메세지\")\n"
   ]
  },
  {
   "cell_type": "code",
   "execution_count": null,
   "metadata": {},
   "outputs": [],
   "source": [
    "# 예외 계층구조, 구조상 상위 예외를 예외로 두면 하위 예외 모두 사용가능\n",
    "# except Exception:"
   ]
  },
  {
   "cell_type": "code",
   "execution_count": null,
   "metadata": {},
   "outputs": [],
   "source": [
    "#에러 만들기\n",
    "class 예외(Exception):\n",
    "    def __init__(self):\n",
    "        super().__init__(\"에러메세지\")"
   ]
  },
  {
   "cell_type": "code",
   "execution_count": 4,
   "metadata": {},
   "outputs": [
    {
     "name": "stdout",
     "output_type": "stream",
     "text": [
      "에러 발생! 양수는 입력불가\n"
     ]
    }
   ],
   "source": [
    "try:\n",
    "    num = int(input(\"음수를 입력해 주세요\"))\n",
    "    if num>=0:\n",
    "        raise ValueError(\"양수는 입력불가\")\n",
    "except ValueError as e:\n",
    "    print(\"에러 발생!\",e)"
   ]
  },
  {
   "cell_type": "code",
   "execution_count": 6,
   "metadata": {},
   "outputs": [
    {
     "name": "stdout",
     "output_type": "stream",
     "text": [
      "에러 발생! 양수는 입력불가\n"
     ]
    }
   ],
   "source": [
    "#에러만들기\n",
    "class PositiveNumberError(Exception):\n",
    "    def __init__(self):\n",
    "        super().__init__(\"양수는 입력불가\")\n",
    "\n",
    "try:\n",
    "    num = int(input(\"음수를 입력해 주세요\"))\n",
    "    if num>=0:\n",
    "        raise PositiveNumberError\n",
    "except PositiveNumberError as e:\n",
    "    print(\"에러 발생!\",e)"
   ]
  },
  {
   "cell_type": "code",
   "execution_count": 1,
   "metadata": {},
   "outputs": [],
   "source": [
    "class Overthreeerror(Exception):\n",
    "    def __init__(self):\n",
    "        super().__init__(\"1,2,3중 하나의 숫자를 입력해 주세요.\")"
   ]
  },
  {
   "cell_type": "code",
   "execution_count": 2,
   "metadata": {},
   "outputs": [
    {
     "name": "stdout",
     "output_type": "stream",
     "text": [
      "에러발생\n"
     ]
    }
   ],
   "source": [
    "num_list = [1,2,3]\n",
    "try:\n",
    "    num = int(input())\n",
    "    if num not in num_list:\n",
    "        raise Overthreeerror\n",
    "except Overthreeerror as t:\n",
    "    print(\"에러발생\")"
   ]
  }
 ],
 "metadata": {
  "kernelspec": {
   "display_name": "Python 3",
   "language": "python",
   "name": "python3"
  },
  "language_info": {
   "codemirror_mode": {
    "name": "ipython",
    "version": 3
   },
   "file_extension": ".py",
   "mimetype": "text/x-python",
   "name": "python",
   "nbconvert_exporter": "python",
   "pygments_lexer": "ipython3",
   "version": "3.12.2"
  }
 },
 "nbformat": 4,
 "nbformat_minor": 2
}
