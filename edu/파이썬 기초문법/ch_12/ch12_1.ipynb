{
 "cells": [
  {
   "cell_type": "code",
   "execution_count": null,
   "metadata": {},
   "outputs": [],
   "source": [
    "#실전프로젝트01\n",
    "\"\"\"\n",
    "프로그램 기능 파악하기\n",
    "1. 게시물 로딩하기\n",
    "2. 게시글 상세 확인하기\n",
    "3. 메뉴출력하기\n",
    "4. 게시글 수정하기\n",
    "5. 게시글 쓰기\n",
    "6. 게시글 삭제하기\n",
    "7. 게시글 목록 확인하기\n",
    "8. 게시글 저장하기\"\"\"\n"
   ]
  },
  {
   "cell_type": "code",
   "execution_count": null,
   "metadata": {},
   "outputs": [],
   "source": [
    "# 게시글 - 글번호, 제목, 본문내용, 조회수\n",
    "# -> 게시글을 클래스로 만듬"
   ]
  },
  {
   "cell_type": "code",
   "execution_count": null,
   "metadata": {},
   "outputs": [],
   "source": [
    "#클래스 설계\n",
    "# 속성 : 글번호, 제목, 본문, 조회수\n",
    "# 메서드 : 게시물 수정하기, 조회수 증가하기, 속성 가져오기"
   ]
  }
 ],
 "metadata": {
  "language_info": {
   "name": "python"
  }
 },
 "nbformat": 4,
 "nbformat_minor": 2
}
