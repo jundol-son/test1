{
 "cells": [
  {
   "cell_type": "code",
   "execution_count": null,
   "metadata": {},
   "outputs": [],
   "source": [
    "\"\"\"\n",
    "상속\n",
    " : 부모클래스가 자식클래스의 속성과 매서드를 가져올 수 있음\n",
    "ex) 몬스터 -> 땅몬스터, 물몬스터, 공중몬스터\n",
    " \n",
    "\"\"\""
   ]
  },
  {
   "cell_type": "code",
   "execution_count": 1,
   "metadata": {},
   "outputs": [],
   "source": [
    "# 부모 클래스\n",
    "class Monster:\n",
    "    def __init__(self, name, health, attack):\n",
    "        self.name = name\n",
    "        self.health = health\n",
    "        self.attack = attack\n",
    "    def move(self):\n",
    "        print(f\"[{self.name}] 지상에서 이동하기\")"
   ]
  },
  {
   "cell_type": "code",
   "execution_count": 5,
   "metadata": {},
   "outputs": [],
   "source": [
    "# 자식 클래스\n",
    "# 괄호안에 몬스터 클래스를 상속받음\n",
    "# pass는 특정 코드블럭 부분을 넘어가고 싶을때 사용\n",
    "class Wolf(Monster):\n",
    "    pass\n",
    "\n",
    "# 메서드 오버라이딩 : 부모클래스에서 작성한 메서드를 재정의\n",
    "class Shark(Monster):\n",
    "    def move(self): # 메서드 오버라이딩\n",
    "        print(f\"[{self.name}] 헤엄치기\")\n",
    "\n",
    "class Dragon(Monster):\n",
    "    def move(self) : # 메서드 오버라이딩\n",
    "        print(f\"[{self.name}] 날기\")"
   ]
  },
  {
   "cell_type": "code",
   "execution_count": 6,
   "metadata": {},
   "outputs": [
    {
     "name": "stdout",
     "output_type": "stream",
     "text": [
      "[울프] 지상에서 이동하기\n",
      "[샤크] 헤엄치기\n",
      "[드래곤] 날기\n"
     ]
    }
   ],
   "source": [
    "# 샤크와 드래곤의 무브 메서드가 재정의 되어서 값이 바뀜\n",
    "wolf = Wolf(\"울프\", 1500, 200)\n",
    "wolf.move()\n",
    "\n",
    "shark = Shark(\"샤크\", 3000, 400)\n",
    "shark.move()\n",
    "\n",
    "dragon = Dragon(\"드래곤\", 8000, 800)\n",
    "dragon.move()"
   ]
  }
 ],
 "metadata": {
  "kernelspec": {
   "display_name": "Python 3",
   "language": "python",
   "name": "python3"
  },
  "language_info": {
   "codemirror_mode": {
    "name": "ipython",
    "version": 3
   },
   "file_extension": ".py",
   "mimetype": "text/x-python",
   "name": "python",
   "nbconvert_exporter": "python",
   "pygments_lexer": "ipython3",
   "version": "3.12.2"
  }
 },
 "nbformat": 4,
 "nbformat_minor": 2
}
