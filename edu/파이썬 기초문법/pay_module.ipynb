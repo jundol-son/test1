{
 "cells": [
  {
   "cell_type": "code",
   "execution_count": null,
   "metadata": {},
   "outputs": [],
   "source": [
    "# 모듈 만들기\n",
    "# 결재 정보, 관리 모듈\n",
    "# 변수\n",
    "version = 2.0\n",
    "# 함수\n",
    "def printAuthor():\n",
    "    print(\"스타트코딩\")\n",
    "\n",
    "# 클래스\n",
    "class Pay:\n",
    "    def __init__(self, id, price, time) :\n",
    "        self.id = id\n",
    "        self.price = price\n",
    "        self.time = time\n",
    "    def get_pay_info(self):\n",
    "        return f\"{self.id} {self.id} {self.price}\""
   ]
  }
 ],
 "metadata": {
  "kernelspec": {
   "display_name": "Python 3",
   "language": "python",
   "name": "python3"
  },
  "language_info": {
   "codemirror_mode": {
    "name": "ipython",
    "version": 3
   },
   "file_extension": ".py",
   "mimetype": "text/x-python",
   "name": "python",
   "nbconvert_exporter": "python",
   "pygments_lexer": "ipython3",
   "version": "3.12.2"
  }
 },
 "nbformat": 4,
 "nbformat_minor": 2
}
