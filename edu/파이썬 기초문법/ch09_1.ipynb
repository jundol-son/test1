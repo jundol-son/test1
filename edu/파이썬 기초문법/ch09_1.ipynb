{
 "cells": [
  {
   "cell_type": "code",
   "execution_count": null,
   "metadata": {},
   "outputs": [],
   "source": [
    "# 모듈과 패키지\n",
    "\n",
    "\"\"\"\n",
    "모듈 : 프로그램 기능별로 파일을 나누어 관리 -> 한개의 완성된 파일\n",
    "회계정리 파일을 매입정리, 매출정리 등 모듈화\n",
    "\n",
    "import 모듈이름\n",
    "모듈이름.변수\n",
    "모듈이름.함수()\n",
    "\n",
    "impot math\n",
    "print(math.pi)\n",
    "print(math.ceil(5.7))\n",
    "#ceil : 올림\n",
    "\n",
    "from math import pi, ceil\n",
    "print(pi)\n",
    "print(ceil(5.7))\n",
    "\n",
    "\"\"\""
   ]
  },
  {
   "cell_type": "code",
   "execution_count": null,
   "metadata": {},
   "outputs": [],
   "source": [
    "\"\"\"\n",
    "외부 모듈 사용 방법\n",
    "pip install 모듈이름\n",
    "\"\"\""
   ]
  },
  {
   "cell_type": "code",
   "execution_count": 1,
   "metadata": {},
   "outputs": [
    {
     "name": "stdout",
     "output_type": "stream",
     "text": [
      "3.141592653589793\n",
      "3\n"
     ]
    }
   ],
   "source": [
    "#모듈 만들기 실습\n",
    "# 내장모듈 : 파이썬 설치 시 자동으로 설치되는 모듈 ex) math\n",
    "\n",
    "import math\n",
    "print(math.pi)\n",
    "print(math.ceil(2.7))"
   ]
  },
  {
   "cell_type": "code",
   "execution_count": 2,
   "metadata": {},
   "outputs": [
    {
     "name": "stdout",
     "output_type": "stream",
     "text": [
      "3.141592653589793\n",
      "3\n"
     ]
    }
   ],
   "source": [
    "from math import pi, ceil as c\n",
    "print(pi)\n",
    "print(c(2.7))"
   ]
  },
  {
   "cell_type": "code",
   "execution_count": 3,
   "metadata": {},
   "outputs": [],
   "source": [
    "#외부 모듈 : 다른사람이 만든 파이썬 파일 pip로 설치하여 사용\n",
    "# pyautogui 모듈 사용 : 마우스 자동화\n",
    "# pyautogui 정식 사이트 :  https://pyautogui.readthedocs.io/en/latest/\n",
    "import pyautogui as pg\n",
    "\n",
    "pg.moveTo(500,500, duration=2)\n",
    "\n"
   ]
  },
  {
   "cell_type": "code",
   "execution_count": null,
   "metadata": {},
   "outputs": [],
   "source": []
  }
 ],
 "metadata": {
  "kernelspec": {
   "display_name": "Python 3",
   "language": "python",
   "name": "python3"
  },
  "language_info": {
   "codemirror_mode": {
    "name": "ipython",
    "version": 3
   },
   "file_extension": ".py",
   "mimetype": "text/x-python",
   "name": "python",
   "nbconvert_exporter": "python",
   "pygments_lexer": "ipython3",
   "version": "3.12.2"
  }
 },
 "nbformat": 4,
 "nbformat_minor": 2
}
