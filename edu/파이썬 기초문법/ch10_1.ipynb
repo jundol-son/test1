{
 "cells": [
  {
   "cell_type": "code",
   "execution_count": 5,
   "metadata": {},
   "outputs": [
    {
     "data": {
      "text/plain": [
       "'\\n파일객채 = open(\"파일이름\",\"파일모드\")\\n파일객채.write(데이터)\\n파일객채.close()\\n\\nfile = open(\"data.txt\",\"a\")\\nfile.write(\"2. 스타트코딩과 함께 파일 공부\")\\nfile.close()\\n'"
      ]
     },
     "execution_count": 5,
     "metadata": {},
     "output_type": "execute_result"
    }
   ],
   "source": [
    "# w : 쓰기모드 : 덮어쓰기\n",
    "\"\"\"\n",
    "파일객채 = open(\"파일이름\",\"파일모드\")\n",
    "파일객채.write(데이터)\n",
    "파일객채.close()\n",
    "\n",
    "file = open(\"data.txt\",\"w\")\n",
    "file.write(\"1. 스타트코딩과 함께 파일 공부\")\n",
    "file.close()\n",
    "\"\"\"\n",
    "\n",
    "# a : 추가모드 : 이어쓰기\n",
    "\"\"\"\n",
    "파일객채 = open(\"파일이름\",\"파일모드\")\n",
    "파일객채.write(데이터)\n",
    "파일객채.close()\n",
    "\n",
    "file = open(\"data.txt\",\"r\")\n",
    "file.read()\n",
    "file.close()\n",
    "\"\"\"\n",
    "# r : 읽기모드\n",
    "\n",
    "# encoding=\"utf8\" 파이썬에서 실행할 수 있도록 인코딩"
   ]
  },
  {
   "cell_type": "code",
   "execution_count": 14,
   "metadata": {},
   "outputs": [],
   "source": [
    "file = open(\"./data.txt\",\"w\", encoding=\"utf8\")\n",
    "file.write(\"1. 스타트코딩과 함께 파일 공부\")\n",
    "file.close()"
   ]
  },
  {
   "cell_type": "code",
   "execution_count": 15,
   "metadata": {},
   "outputs": [],
   "source": [
    "file = open(\"./data.txt\",\"a\", encoding=\"utf8\")\n",
    "file.write(\"\\n2. 스타트코딩과 함께 파일 공부\")\n",
    "file.close()"
   ]
  },
  {
   "cell_type": "code",
   "execution_count": 16,
   "metadata": {},
   "outputs": [
    {
     "name": "stdout",
     "output_type": "stream",
     "text": [
      "1. 스타트코딩과 함께 파일 공부\n",
      "2. 스타트코딩과 함께 파일 공부\n"
     ]
    }
   ],
   "source": [
    "file = open(\"data.txt\",\"r\", encoding=\"utf8\")\n",
    "data = file.read()\n",
    "print(data)\n",
    "file.close()"
   ]
  },
  {
   "cell_type": "code",
   "execution_count": 20,
   "metadata": {},
   "outputs": [
    {
     "name": "stdout",
     "output_type": "stream",
     "text": [
      "1. 스타트코딩과 함께 파일 공부\n",
      "2. 스타트코딩과 함께 파일 공부"
     ]
    },
    {
     "data": {
      "text/plain": [
       "<function TextIOWrapper.close()>"
      ]
     },
     "execution_count": 20,
     "metadata": {},
     "output_type": "execute_result"
    }
   ],
   "source": [
    "#파일한줄 읽기\n",
    "file = open(\"data.txt\",\"r\", encoding=\"utf8\")\n",
    "while True:\n",
    "    data = file.readline()\n",
    "    print(data, end=\"\")\n",
    "    if data == \"\":\n",
    "        break\n",
    "file.close"
   ]
  }
 ],
 "metadata": {
  "kernelspec": {
   "display_name": "Python 3",
   "language": "python",
   "name": "python3"
  },
  "language_info": {
   "codemirror_mode": {
    "name": "ipython",
    "version": 3
   },
   "file_extension": ".py",
   "mimetype": "text/x-python",
   "name": "python",
   "nbconvert_exporter": "python",
   "pygments_lexer": "ipython3",
   "version": "3.12.2"
  }
 },
 "nbformat": 4,
 "nbformat_minor": 2
}
