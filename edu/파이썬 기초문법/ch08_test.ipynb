{
 "cells": [
  {
   "cell_type": "code",
   "execution_count": null,
   "metadata": {},
   "outputs": [],
   "source": [
    "\"\"\"\n",
    "게임의 아이템 구성안\n",
    "아이템 공통 : 이름, 가격, 무게, 판매하기, 버리기\n",
    "장비 아이템 : 착용효과, 착용하기\n",
    "소모품 아이템 : 사용효과, 사용하기\n",
    "(단, 버리기는 버릴 수 있는 아이템만 가능하다)\n",
    "\"\"\""
   ]
  },
  {
   "cell_type": "code",
   "execution_count": 4,
   "metadata": {},
   "outputs": [],
   "source": [
    "# 클래스 생성\n",
    "\n",
    "class Item:\n",
    "    def __init__(self,name,price,weight,isdropable):\n",
    "        self.name = name\n",
    "        self.price = price\n",
    "        self.weight = weight\n",
    "        self.isdropable = isdropable\n",
    "    def sale(self):\n",
    "        print(f\"[{self.name}] 판매가격은 [{self.price}]\")\n",
    "    def discard(self):\n",
    "        if self.isdropable:\n",
    "            print(f\"[{self.name}] 버렸습니다.\")\n",
    "        else:\n",
    "            print(f\"[{self.name}] 버릴 수 없습니다.\")\n",
    "\n",
    "class WearableItem(Item):\n",
    "    def __init__(self,name,price,weight,isdropable,effect):\n",
    "        super().__init__(name,price,weight,isdropable)\n",
    "        self.effect = effect\n",
    "\n",
    "    def wear(self):\n",
    "        print(f\"[{self.name}] 착용했습니다. {self.effect}\")\n",
    "\n",
    "class UsableItem(Item):\n",
    "    def __init__(self,name,price,weight,isdropable,effect):\n",
    "        super().__init__(name,price,weight,isdropable,)\n",
    "        self.effect = effect\n",
    "\n",
    "    def use(self):\n",
    "        print(f\"[{self.name}] 사용했습니다. {self.effect}\")"
   ]
  },
  {
   "cell_type": "code",
   "execution_count": 7,
   "metadata": {},
   "outputs": [
    {
     "name": "stdout",
     "output_type": "stream",
     "text": [
      "[이가닌자의검] 착용했습니다. 체력 5000 증가, 마력 5000 증가\n",
      "[이가닌자의검] 판매가격은 [30000]\n",
      "[이가닌자의검] 버렸습니다.\n"
     ]
    }
   ],
   "source": [
    "# 인스턴스 생성\n",
    "sword = WearableItem(\"이가닌자의검\", 30000, 3.5, True, \"체력 5000 증가, 마력 5000 증가\")\n",
    "sword.wear()\n",
    "sword.sale()\n",
    "sword.discard()"
   ]
  },
  {
   "cell_type": "code",
   "execution_count": 8,
   "metadata": {},
   "outputs": [
    {
     "name": "stdout",
     "output_type": "stream",
     "text": [
      "[신비한투명물약] 버릴 수 없습니다.\n",
      "[신비한투명물약] 판매가격은 [150000]\n",
      "[신비한투명물약] 버릴 수 없습니다.\n"
     ]
    }
   ],
   "source": [
    "potion = UsableItem(\"신비한투명물약\", 150000, 0.1, False, \"투명효과 300초 지속\")\n",
    "potion.discard()\n",
    "potion.sale()\n",
    "potion.discard()"
   ]
  }
 ],
 "metadata": {
  "kernelspec": {
   "display_name": "Python 3",
   "language": "python",
   "name": "python3"
  },
  "language_info": {
   "codemirror_mode": {
    "name": "ipython",
    "version": 3
   },
   "file_extension": ".py",
   "mimetype": "text/x-python",
   "name": "python",
   "nbconvert_exporter": "python",
   "pygments_lexer": "ipython3",
   "version": "3.12.2"
  }
 },
 "nbformat": 4,
 "nbformat_minor": 2
}
