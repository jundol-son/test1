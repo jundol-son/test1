{
 "cells": [
  {
   "cell_type": "code",
   "execution_count": null,
   "metadata": {},
   "outputs": [],
   "source": [
    "# 클래스 : 속성 + 매서드\n",
    "\"\"\"\n",
    "생성자 : 인스턴스를 만들때 호출되는 메서드\n",
    "__init__ : 인스턴스를 만들때 가장먼저 사용되는 메서드\n",
    "self는 매게변수로 사용 X\n",
    "self는 인스턴스 자기자신\n",
    "\"\"\"\n"
   ]
  },
  {
   "cell_type": "code",
   "execution_count": 2,
   "metadata": {},
   "outputs": [],
   "source": [
    "# 몬스터 클래스 생성\n",
    "\n",
    "class Monster:\n",
    "    def __init__(self,health,attack,speed):\n",
    "        self.health = health\n",
    "        self.attack = attack\n",
    "        self.speed = speed\n",
    "\n",
    "#고블린 인스턴스 생성\n",
    "goblin = Monster(800,120,300)\n",
    "#울프 인스턴스 생성\n",
    "wolf = Monster(1500,200,350)\n"
   ]
  },
  {
   "cell_type": "code",
   "execution_count": 3,
   "metadata": {},
   "outputs": [
    {
     "name": "stdout",
     "output_type": "stream",
     "text": [
      "700\n"
     ]
    }
   ],
   "source": [
    "\"\"\"\n",
    "메서드 추가\n",
    "1. 체력감소하기\n",
    "2. 체력가져오기\n",
    "\"\"\"\n",
    "\n",
    "class Monster:\n",
    "    def __init__(self,health,attack,speed):\n",
    "        self.health = health\n",
    "        self.attack = attack\n",
    "        self.speed = speed\n",
    "    def decrease_health(self, num):\n",
    "        self.health -= num\n",
    "    def get_health(self):\n",
    "        return self.health\n",
    "    \n",
    "goblin = Monster(800,120,300)\n",
    "goblin.decrease_health(100)\n",
    "print(goblin.get_health())"
   ]
  },
  {
   "cell_type": "code",
   "execution_count": null,
   "metadata": {},
   "outputs": [],
   "source": []
  }
 ],
 "metadata": {
  "kernelspec": {
   "display_name": "Python 3",
   "language": "python",
   "name": "python3"
  },
  "language_info": {
   "codemirror_mode": {
    "name": "ipython",
    "version": 3
   },
   "file_extension": ".py",
   "mimetype": "text/x-python",
   "name": "python",
   "nbconvert_exporter": "python",
   "pygments_lexer": "ipython3",
   "version": "3.12.2"
  }
 },
 "nbformat": 4,
 "nbformat_minor": 2
}
