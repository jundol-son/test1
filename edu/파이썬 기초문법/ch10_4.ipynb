{
 "cells": [
  {
   "cell_type": "code",
   "execution_count": 8,
   "metadata": {},
   "outputs": [],
   "source": [
    "import csv\n",
    "\n",
    "data = [\n",
    "    [\"종목\",\"매입가\",\"수량\",\"목표가\"],\n",
    "    [\"삼성전자\",\"85000\",\"10\",\"90000\"],\n",
    "    [\"NAVER\",\"380000\",\"5\",\"400000\"]\n",
    "]\n",
    "\n",
    "file = open(\"mystock.csv\",\"w\",newline=\"\",encoding=\"utf-8-sig\")\n",
    "writer = csv.writer(file)\n",
    "for d in data:\n",
    "    writer.writerow(d)\n",
    "file.close()"
   ]
  },
  {
   "cell_type": "code",
   "execution_count": 24,
   "metadata": {},
   "outputs": [],
   "source": [
    "def show_profit(data):\n",
    "    name = data[0]\n",
    "    purchase_price = int(data[1]) #매입가\n",
    "    amount = int(data[2]) #수량\n",
    "    target_price = int(data[3]) #목표가\n",
    "\n",
    "    profit = (target_price-purchase_price)*amount\n",
    "    profit_percent = (target_price/purchase_price-1)*amount*100\n",
    "\n",
    "    print(f\"{name} {profit} {profit_percent:.2f}% \")\n",
    "\n"
   ]
  },
  {
   "cell_type": "code",
   "execution_count": 25,
   "metadata": {},
   "outputs": [
    {
     "name": "stdout",
     "output_type": "stream",
     "text": [
      "삼성전자 50000 58.82% \n",
      "NAVER 100000 26.32% \n"
     ]
    },
    {
     "data": {
      "text/plain": [
       "<function TextIOWrapper.close()>"
      ]
     },
     "execution_count": 25,
     "metadata": {},
     "output_type": "execute_result"
    }
   ],
   "source": [
    "# 오류해결과정 중심!!\n",
    "# 들여쓰기, :,\n",
    "\n",
    "file = open(\"mystock.csv\",\"r\",encoding=\"utf-8-sig\")\n",
    "\n",
    "reader = list(csv.reader(file))\n",
    "for data in reader[1:]:\n",
    "    show_profit(data)\n",
    "file.close"
   ]
  }
 ],
 "metadata": {
  "kernelspec": {
   "display_name": "Python 3",
   "language": "python",
   "name": "python3"
  },
  "language_info": {
   "codemirror_mode": {
    "name": "ipython",
    "version": 3
   },
   "file_extension": ".py",
   "mimetype": "text/x-python",
   "name": "python",
   "nbconvert_exporter": "python",
   "pygments_lexer": "ipython3",
   "version": "3.12.2"
  }
 },
 "nbformat": 4,
 "nbformat_minor": 2
}
