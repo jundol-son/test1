{
 "cells": [
  {
   "cell_type": "code",
   "execution_count": 3,
   "metadata": {},
   "outputs": [],
   "source": [
    "import csv\n",
    "\n",
    "data = [\n",
    "    [\"이름\",\"반\",\"번호\"],\n",
    "    [\"재석\",\"1\",\"20\"],\n",
    "    [\"홍철\",\"3\",\"8\"],\n",
    "    [\"형동\",\"5\",\"32\"]\n",
    "]\n",
    "\n",
    "file = open(\"student.csv\",\"w\", newline=\"\", encoding=\"utf-8-sig\")\n",
    "writer = csv.writer(file)\n",
    "\n",
    "for d in data : \n",
    "    writer.writerow(d)\n",
    "file.close()"
   ]
  },
  {
   "cell_type": "code",
   "execution_count": 6,
   "metadata": {},
   "outputs": [
    {
     "name": "stdout",
     "output_type": "stream",
     "text": [
      "['이름', '반', '번호']\n",
      "['재석', '1', '20']\n",
      "['홍철', '3', '8']\n",
      "['형동', '5', '32']\n"
     ]
    },
    {
     "data": {
      "text/plain": [
       "<function TextIOWrapper.close()>"
      ]
     },
     "execution_count": 6,
     "metadata": {},
     "output_type": "execute_result"
    }
   ],
   "source": [
    "file = open(\"student.csv\",\"r\",encoding=\"utf-8-sig\")\n",
    "reader = csv.reader(file)\n",
    "for i in reader:\n",
    "    print(i)\n",
    "file.close"
   ]
  }
 ],
 "metadata": {
  "kernelspec": {
   "display_name": "Python 3",
   "language": "python",
   "name": "python3"
  },
  "language_info": {
   "codemirror_mode": {
    "name": "ipython",
    "version": 3
   },
   "file_extension": ".py",
   "mimetype": "text/x-python",
   "name": "python",
   "nbconvert_exporter": "python",
   "pygments_lexer": "ipython3",
   "version": "3.12.2"
  }
 },
 "nbformat": 4,
 "nbformat_minor": 2
}
