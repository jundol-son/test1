{
 "cells": [
  {
   "cell_type": "code",
   "execution_count": 1,
   "metadata": {},
   "outputs": [
    {
     "name": "stdout",
     "output_type": "stream",
     "text": [
      "pay_module\n",
      "2.0\n"
     ]
    }
   ],
   "source": [
    "# Pylance에서 모듈을 읽지 못하면 오류 -> 루트폴더에서만 모듈로 인식\n",
    "# 모듈은 py형식의 파일로 사용\n",
    "# file > preferense > settings > settings.json에서 \"python.analysis.extraPaths\": [\"./study\"] 입력\n",
    "# pycahce, pyc파일이 생성되나 컴파일을 위한 파일, 무시하여도 됨\n",
    "import pay_module\n",
    "#변수사용\n",
    "print(pay_module.version)\n"
   ]
  },
  {
   "cell_type": "code",
   "execution_count": 29,
   "metadata": {},
   "outputs": [
    {
     "name": "stdout",
     "output_type": "stream",
     "text": [
      "스타트코딩\n",
      "None\n"
     ]
    }
   ],
   "source": [
    "#함수사용\n",
    "print(pay_module.printAuthor())"
   ]
  },
  {
   "cell_type": "code",
   "execution_count": 30,
   "metadata": {},
   "outputs": [
    {
     "name": "stdout",
     "output_type": "stream",
     "text": [
      "2021-06-13\n",
      "A102030 A102030 13000\n"
     ]
    }
   ],
   "source": [
    "#클래스사용\n",
    "pay_info = pay_module.Pay(\"A102030\", 13000, \"2021-06-13\")\n",
    "print(pay_info.time)\n",
    "print(pay_info.get_pay_info())\n",
    "\n",
    "# import가 업데이트가 안되는지 모듈 수정 후 값 변화가 안됨..."
   ]
  },
  {
   "cell_type": "code",
   "execution_count": null,
   "metadata": {},
   "outputs": [],
   "source": []
  }
 ],
 "metadata": {
  "kernelspec": {
   "display_name": "Python 3",
   "language": "python",
   "name": "python3"
  },
  "language_info": {
   "codemirror_mode": {
    "name": "ipython",
    "version": 3
   },
   "file_extension": ".py",
   "mimetype": "text/x-python",
   "name": "python",
   "nbconvert_exporter": "python",
   "pygments_lexer": "ipython3",
   "version": "3.12.2"
  }
 },
 "nbformat": 4,
 "nbformat_minor": 2
}
