{
 "cells": [
  {
   "cell_type": "code",
   "execution_count": null,
   "metadata": {},
   "outputs": [],
   "source": [
    "\"\"\"\n",
    "오버라이딩과 클래스변수\n",
    "상속의 업그레이드\n",
    "+private 변수를 배움\n",
    " \n",
    "\"\"\"\n",
    "\n",
    "# 상속\n",
    "# : 클래스들에 중복된 코드를 제거하고 유지보수를\n",
    "#   편하게 하기 위해서 사용.\n",
    "\n",
    "# 클래스 변수\n",
    "# : 인스턴스들이 모두 공유하는 변수\n",
    "\n",
    "# 드래곤 클래스에 인스턴스 속성으로 3개의 스킬을 추가하자\n",
    "# 드래곤이 스킬을 쓰면 속성 중에 하나가 무작위로 사용된다."
   ]
  },
  {
   "cell_type": "code",
   "execution_count": null,
   "metadata": {},
   "outputs": [],
   "source": [
    "\"\"\"\n",
    "드래곤 클래스에서만 스킬 추가가 필요함\n",
    "-> 드래곤 클래스의 생성자 오버라이딩이 필요함(스킬 추가)\n",
    "\n",
    "클래스 변수\n",
    ": 인스턴스들이 공유하는 변수 -> max_num이용\n",
    "\"\"\""
   ]
  },
  {
   "cell_type": "code",
   "execution_count": 2,
   "metadata": {},
   "outputs": [],
   "source": [
    "import random\n",
    "# 부모 클래스\n",
    "class Monster:\n",
    "    max_num = 1000 #몬스터의 총 개수를 1000개까지 제한 하기 위하여 생성 -> 몬스터 클래스를 가지는 모든 값들이 공유하는 변수\n",
    "    def __init__(self, name, health, attack):\n",
    "        self.name = name\n",
    "        self.health = health\n",
    "        self.attack = attack\n",
    "        Monster.max_num -= 1\n",
    "    def move(self):\n",
    "        print(f\"[{self.name}] 지상에서 이동하기\")"
   ]
  },
  {
   "cell_type": "code",
   "execution_count": null,
   "metadata": {},
   "outputs": [],
   "source": [
    "# 자식 클래스\n",
    "class Wolf(Monster):\n",
    "    pass\n",
    "\n",
    "class Shark(Monster):\n",
    "    def move(self): # 메서드 오버라이딩\n",
    "        print(f\"[{self.name}] 헤엄치기\")\n",
    "\n",
    "class Dragon(Monster):\n",
    "    # 생성자 오버라이딩\n",
    "    def __init__(self, name, health, attack, skill):\n",
    "        super().__init__(name, health, attack)\n",
    "        #super함수는 부모클래스를 불러올 수 있음\n",
    "        #super().__init__ 은 부모클래스의 init을 불러옴\n",
    "        self.skill = skill\n",
    "\n",
    "    def move(self) : # 메서드 오버라이딩\n",
    "        print(f\"[{self.name}] 날기\")\n",
    "    \n",
    "wolf = Wolf(\"울프\", 1500, 200)\n",
    "wolf.move()\n",
    "\n",
    "shark = Shark(\"샤크\", 3000, 400)\n",
    "shark.move()\n",
    "\n",
    "# 드래곤의 스킬을 튜플형태로 3가지 추가해줌\n",
    "dragon = Dragon(\"드래곤\", 8000, 800, (\"불뿜기\", \"꼬리치기\", \"날개치기\"))\n",
    "dragon.move()\n",
    "\n",
    "\"\"\" 위와같은 코드 작성 시 드래곤 클래스 사용시 스킬을 항상 복사해주어야함\n",
    "따라서 아래와 같이 드래곤에 스킬을 추가하는 것이 아닌 클래스 내부에서 스킬 부여\n",
    "\n",
    "변경전\n",
    "class Dragon(Monster):\n",
    "    # 생성자 오버라이딩\n",
    "    def __init__(self, name, health, attack, skill):\n",
    "        super().__init__(name, health, attack)\n",
    "        #super함수는 부모클래스를 불러올 수 있음\n",
    "        #super().__init__ 은 부모클래스의 init을 불러옴\n",
    "        self.skill = skill\n",
    "\n",
    "변경후 - 클래스 생성 시 스킬 값 입력을 하지 않고, 자동으로 값 지정\n",
    "class Dragon(Monster):\n",
    "    # 생성자 오버라이딩\n",
    "    def __init__(self, name, health, attack):\n",
    "        super().__init__(name, health, attack)\n",
    "        #super함수는 부모클래스를 불러올 수 있음\n",
    "        #super().__init__ 은 부모클래스의 init을 불러옴\n",
    "        self.skills = (\"불뿜기\", \"꼬리치기\", \"날개치기\")\n",
    "    def move(self) : # 메서드 오버라이딩\n",
    "        print(f\"[{self.name}] 날기\")\n",
    "         \n",
    "    def skill(self):\n",
    "         print(f\"[{self.name}] 스킬 사용 {self.skills[random.randint(0,2)]}) \"\"\""
   ]
  },
  {
   "cell_type": "code",
   "execution_count": 3,
   "metadata": {},
   "outputs": [],
   "source": [
    "# 자식 클래스\n",
    "class Wolf(Monster):\n",
    "    pass\n",
    "\n",
    "class Shark(Monster):\n",
    "    def move(self): # 메서드 오버라이딩\n",
    "        print(f\"[{self.name}] 헤엄치기\")\n",
    "\n",
    "class Dragon(Monster):\n",
    "    # 생성자 오버라이딩\n",
    "    def __init__(self, name, health, attack):\n",
    "        super().__init__(name, health, attack)\n",
    "        self.skills = (\"불뿜기\", \"꼬리치기\", \"날개치기\")\n",
    "\n",
    "    def move(self) : # 메서드 오버라이딩\n",
    "        print(f\"[{self.name}] 날기\")\n",
    "    \n",
    "    def skill(self):\n",
    "        print(f\"[{self.name}] 스킬 사용 {self.skills[random.randint(0,2)]}\")"
   ]
  },
  {
   "cell_type": "code",
   "execution_count": 5,
   "metadata": {},
   "outputs": [
    {
     "name": "stdout",
     "output_type": "stream",
     "text": [
      "[울프] 지상에서 이동하기\n",
      "996\n",
      "[샤크] 헤엄치기\n",
      "995\n",
      "[드래곤] 날기\n",
      "[드래곤] 스킬 사용 꼬리치기\n",
      "994\n"
     ]
    }
   ],
   "source": [
    "wolf = Wolf(\"울프\", 1500, 200)\n",
    "wolf.move()\n",
    "print(wolf.max_num)\n",
    "\n",
    "shark = Shark(\"샤크\", 3000, 400)\n",
    "shark.move()\n",
    "print(shark.max_num)\n",
    "\n",
    "dragon = Dragon(\"드래곤\", 8000, 800)\n",
    "dragon.move()\n",
    "dragon.skill()\n",
    "print(dragon.max_num)"
   ]
  },
  {
   "cell_type": "code",
   "execution_count": null,
   "metadata": {},
   "outputs": [],
   "source": []
  }
 ],
 "metadata": {
  "kernelspec": {
   "display_name": "Python 3",
   "language": "python",
   "name": "python3"
  },
  "language_info": {
   "codemirror_mode": {
    "name": "ipython",
    "version": 3
   },
   "file_extension": ".py",
   "mimetype": "text/x-python",
   "name": "python",
   "nbconvert_exporter": "python",
   "pygments_lexer": "ipython3",
   "version": "3.12.2"
  }
 },
 "nbformat": 4,
 "nbformat_minor": 2
}
