{
 "cells": [
  {
   "cell_type": "code",
   "execution_count": null,
   "metadata": {},
   "outputs": [],
   "source": [
    "print(1+1)"
   ]
  },
  {
   "cell_type": "code",
   "execution_count": 12,
   "metadata": {},
   "outputs": [],
   "source": [
    "import selenium\n",
    "from selenium import webdriver\n",
    "from selenium.webdriver import ActionChains\n",
    "\n",
    "from selenium.webdriver.common.keys import Keys\n",
    "from selenium.webdriver.common.by import By\n",
    "\n",
    "from selenium.webdriver.support import expected_conditions as EC\n",
    "from selenium.webdriver.support.ui import Select\n",
    "from selenium.webdriver.support.ui import WebDriverWait\n",
    "import time"
   ]
  },
  {
   "cell_type": "code",
   "execution_count": 2,
   "metadata": {},
   "outputs": [],
   "source": [
    "URL = 'https://www.naver.com'\n",
    "\n",
    "driver = webdriver.Chrome()\n",
    "\n",
    "driver.get(url=URL)"
   ]
  },
  {
   "cell_type": "code",
   "execution_count": 3,
   "metadata": {},
   "outputs": [],
   "source": [
    "login_button = driver.find_element(By.XPATH, '//*[@id=\"account\"]/div/a')\n",
    "login_button.click()"
   ]
  },
  {
   "cell_type": "code",
   "execution_count": 4,
   "metadata": {},
   "outputs": [],
   "source": [
    "login_id = driver.find_element(By.XPATH, '//*[@id=\"id\"]')\n",
    "login_id.send_keys('sjsuk321')\n",
    "login_password = driver.find_element(By.XPATH, '//*[@id=\"pw\"]')\n",
    "login_password.send_keys('sjsuk5764191**')\n",
    "login_con = driver.find_element(By.XPATH, '//*[@id=\"login_keep_wrap\"]/div[1]/label')\n",
    "login_con.click()\n",
    "login_button_2 = driver.find_element(By.XPATH, '//*[@id=\"log.login\"]')\n",
    "login_button_2.click()"
   ]
  },
  {
   "cell_type": "code",
   "execution_count": 5,
   "metadata": {},
   "outputs": [],
   "source": [
    "login_con = driver.find_element(By.XPATH, '//*[@id=\"login_keep_wrap\"]/div[1]/label')\n",
    "login_con.click()\n",
    "login_button_2 = driver.find_element(By.XPATH, '//*[@id=\"log.login\"]')\n",
    "login_button_2.click()"
   ]
  },
  {
   "cell_type": "code",
   "execution_count": 13,
   "metadata": {},
   "outputs": [],
   "source": [
    "mail_entrance = driver.find_element(By.XPATH, '//*[@id=\"account\"]/div[2]/div/div/ul/li[1]/a/span[1]')\n",
    "mail_entrance.click()\n",
    "time.sleep(1)\n",
    "mail_entrance = driver.find_element(By.XPATH, '//*[@id=\"account\"]/div[3]/div[2]/div[1]/a')\n",
    "mail_entrance.click()\n"
   ]
  },
  {
   "cell_type": "code",
   "execution_count": 16,
   "metadata": {},
   "outputs": [
    {
     "ename": "NoSuchElementException",
     "evalue": "Message: no such element: Unable to locate element: {\"method\":\"xpath\",\"selector\":\"//*[@id=\"mail_list_wrap\"]/ul/li[1]/div/div[4]/div/a/span[3]\"}\n  (Session info: chrome=123.0.6312.106); For documentation on this error, please visit: https://www.selenium.dev/documentation/webdriver/troubleshooting/errors#no-such-element-exception\nStacktrace:\n\tGetHandleVerifier [0x00007FF611B37032+63090]\n\t(No symbol) [0x00007FF611AA2C82]\n\t(No symbol) [0x00007FF61193EC65]\n\t(No symbol) [0x00007FF61198499D]\n\t(No symbol) [0x00007FF611984ADC]\n\t(No symbol) [0x00007FF6119C5B37]\n\t(No symbol) [0x00007FF6119A701F]\n\t(No symbol) [0x00007FF6119C3412]\n\t(No symbol) [0x00007FF6119A6D83]\n\t(No symbol) [0x00007FF6119783A8]\n\t(No symbol) [0x00007FF611979441]\n\tGetHandleVerifier [0x00007FF611F325AD+4238317]\n\tGetHandleVerifier [0x00007FF611F6F70D+4488525]\n\tGetHandleVerifier [0x00007FF611F679EF+4456495]\n\tGetHandleVerifier [0x00007FF611C10576+953270]\n\t(No symbol) [0x00007FF611AAE54F]\n\t(No symbol) [0x00007FF611AA9224]\n\t(No symbol) [0x00007FF611AA935B]\n\t(No symbol) [0x00007FF611A99B94]\n\tBaseThreadInitThunk [0x00007FFA41F07344+20]\n\tRtlUserThreadStart [0x00007FFA421A26B1+33]\n",
     "output_type": "error",
     "traceback": [
      "\u001b[1;31m---------------------------------------------------------------------------\u001b[0m",
      "\u001b[1;31mNoSuchElementException\u001b[0m                    Traceback (most recent call last)",
      "Cell \u001b[1;32mIn[16], line 6\u001b[0m\n\u001b[0;32m      4\u001b[0m \u001b[38;5;28;01mfor\u001b[39;00m i \u001b[38;5;129;01min\u001b[39;00m \u001b[38;5;28mrange\u001b[39m(\u001b[38;5;241m10\u001b[39m):\n\u001b[0;32m      5\u001b[0m     i \u001b[38;5;241m=\u001b[39m \u001b[38;5;28mstr\u001b[39m(i\u001b[38;5;241m+\u001b[39m\u001b[38;5;241m1\u001b[39m)\n\u001b[1;32m----> 6\u001b[0m     mail_title \u001b[38;5;241m=\u001b[39m \u001b[43mdriver\u001b[49m\u001b[38;5;241;43m.\u001b[39;49m\u001b[43mfind_element\u001b[49m\u001b[43m(\u001b[49m\u001b[43mBy\u001b[49m\u001b[38;5;241;43m.\u001b[39;49m\u001b[43mXPATH\u001b[49m\u001b[43m,\u001b[49m\u001b[43m \u001b[49m\u001b[43mtitle_1\u001b[49m\u001b[38;5;241;43m+\u001b[39;49m\u001b[43mi\u001b[49m\u001b[38;5;241;43m+\u001b[39;49m\u001b[43mtitle_2\u001b[49m\u001b[43m)\u001b[49m\u001b[38;5;241m.\u001b[39mclick()\n\u001b[0;32m      7\u001b[0m     \u001b[38;5;28mprint\u001b[39m(mail_title)\n",
      "File \u001b[1;32mc:\\Users\\sjsuk\\AppData\\Local\\Programs\\Python\\Python312\\Lib\\site-packages\\selenium\\webdriver\\remote\\webdriver.py:741\u001b[0m, in \u001b[0;36mWebDriver.find_element\u001b[1;34m(self, by, value)\u001b[0m\n\u001b[0;32m    738\u001b[0m     by \u001b[38;5;241m=\u001b[39m By\u001b[38;5;241m.\u001b[39mCSS_SELECTOR\n\u001b[0;32m    739\u001b[0m     value \u001b[38;5;241m=\u001b[39m \u001b[38;5;124mf\u001b[39m\u001b[38;5;124m'\u001b[39m\u001b[38;5;124m[name=\u001b[39m\u001b[38;5;124m\"\u001b[39m\u001b[38;5;132;01m{\u001b[39;00mvalue\u001b[38;5;132;01m}\u001b[39;00m\u001b[38;5;124m\"\u001b[39m\u001b[38;5;124m]\u001b[39m\u001b[38;5;124m'\u001b[39m\n\u001b[1;32m--> 741\u001b[0m \u001b[38;5;28;01mreturn\u001b[39;00m \u001b[38;5;28;43mself\u001b[39;49m\u001b[38;5;241;43m.\u001b[39;49m\u001b[43mexecute\u001b[49m\u001b[43m(\u001b[49m\u001b[43mCommand\u001b[49m\u001b[38;5;241;43m.\u001b[39;49m\u001b[43mFIND_ELEMENT\u001b[49m\u001b[43m,\u001b[49m\u001b[43m \u001b[49m\u001b[43m{\u001b[49m\u001b[38;5;124;43m\"\u001b[39;49m\u001b[38;5;124;43musing\u001b[39;49m\u001b[38;5;124;43m\"\u001b[39;49m\u001b[43m:\u001b[49m\u001b[43m \u001b[49m\u001b[43mby\u001b[49m\u001b[43m,\u001b[49m\u001b[43m \u001b[49m\u001b[38;5;124;43m\"\u001b[39;49m\u001b[38;5;124;43mvalue\u001b[39;49m\u001b[38;5;124;43m\"\u001b[39;49m\u001b[43m:\u001b[49m\u001b[43m \u001b[49m\u001b[43mvalue\u001b[49m\u001b[43m}\u001b[49m\u001b[43m)\u001b[49m[\u001b[38;5;124m\"\u001b[39m\u001b[38;5;124mvalue\u001b[39m\u001b[38;5;124m\"\u001b[39m]\n",
      "File \u001b[1;32mc:\\Users\\sjsuk\\AppData\\Local\\Programs\\Python\\Python312\\Lib\\site-packages\\selenium\\webdriver\\remote\\webdriver.py:347\u001b[0m, in \u001b[0;36mWebDriver.execute\u001b[1;34m(self, driver_command, params)\u001b[0m\n\u001b[0;32m    345\u001b[0m response \u001b[38;5;241m=\u001b[39m \u001b[38;5;28mself\u001b[39m\u001b[38;5;241m.\u001b[39mcommand_executor\u001b[38;5;241m.\u001b[39mexecute(driver_command, params)\n\u001b[0;32m    346\u001b[0m \u001b[38;5;28;01mif\u001b[39;00m response:\n\u001b[1;32m--> 347\u001b[0m     \u001b[38;5;28;43mself\u001b[39;49m\u001b[38;5;241;43m.\u001b[39;49m\u001b[43merror_handler\u001b[49m\u001b[38;5;241;43m.\u001b[39;49m\u001b[43mcheck_response\u001b[49m\u001b[43m(\u001b[49m\u001b[43mresponse\u001b[49m\u001b[43m)\u001b[49m\n\u001b[0;32m    348\u001b[0m     response[\u001b[38;5;124m\"\u001b[39m\u001b[38;5;124mvalue\u001b[39m\u001b[38;5;124m\"\u001b[39m] \u001b[38;5;241m=\u001b[39m \u001b[38;5;28mself\u001b[39m\u001b[38;5;241m.\u001b[39m_unwrap_value(response\u001b[38;5;241m.\u001b[39mget(\u001b[38;5;124m\"\u001b[39m\u001b[38;5;124mvalue\u001b[39m\u001b[38;5;124m\"\u001b[39m, \u001b[38;5;28;01mNone\u001b[39;00m))\n\u001b[0;32m    349\u001b[0m     \u001b[38;5;28;01mreturn\u001b[39;00m response\n",
      "File \u001b[1;32mc:\\Users\\sjsuk\\AppData\\Local\\Programs\\Python\\Python312\\Lib\\site-packages\\selenium\\webdriver\\remote\\errorhandler.py:229\u001b[0m, in \u001b[0;36mErrorHandler.check_response\u001b[1;34m(self, response)\u001b[0m\n\u001b[0;32m    227\u001b[0m         alert_text \u001b[38;5;241m=\u001b[39m value[\u001b[38;5;124m\"\u001b[39m\u001b[38;5;124malert\u001b[39m\u001b[38;5;124m\"\u001b[39m]\u001b[38;5;241m.\u001b[39mget(\u001b[38;5;124m\"\u001b[39m\u001b[38;5;124mtext\u001b[39m\u001b[38;5;124m\"\u001b[39m)\n\u001b[0;32m    228\u001b[0m     \u001b[38;5;28;01mraise\u001b[39;00m exception_class(message, screen, stacktrace, alert_text)  \u001b[38;5;66;03m# type: ignore[call-arg]  # mypy is not smart enough here\u001b[39;00m\n\u001b[1;32m--> 229\u001b[0m \u001b[38;5;28;01mraise\u001b[39;00m exception_class(message, screen, stacktrace)\n",
      "\u001b[1;31mNoSuchElementException\u001b[0m: Message: no such element: Unable to locate element: {\"method\":\"xpath\",\"selector\":\"//*[@id=\"mail_list_wrap\"]/ul/li[1]/div/div[4]/div/a/span[3]\"}\n  (Session info: chrome=123.0.6312.106); For documentation on this error, please visit: https://www.selenium.dev/documentation/webdriver/troubleshooting/errors#no-such-element-exception\nStacktrace:\n\tGetHandleVerifier [0x00007FF611B37032+63090]\n\t(No symbol) [0x00007FF611AA2C82]\n\t(No symbol) [0x00007FF61193EC65]\n\t(No symbol) [0x00007FF61198499D]\n\t(No symbol) [0x00007FF611984ADC]\n\t(No symbol) [0x00007FF6119C5B37]\n\t(No symbol) [0x00007FF6119A701F]\n\t(No symbol) [0x00007FF6119C3412]\n\t(No symbol) [0x00007FF6119A6D83]\n\t(No symbol) [0x00007FF6119783A8]\n\t(No symbol) [0x00007FF611979441]\n\tGetHandleVerifier [0x00007FF611F325AD+4238317]\n\tGetHandleVerifier [0x00007FF611F6F70D+4488525]\n\tGetHandleVerifier [0x00007FF611F679EF+4456495]\n\tGetHandleVerifier [0x00007FF611C10576+953270]\n\t(No symbol) [0x00007FF611AAE54F]\n\t(No symbol) [0x00007FF611AA9224]\n\t(No symbol) [0x00007FF611AA935B]\n\t(No symbol) [0x00007FF611A99B94]\n\tBaseThreadInitThunk [0x00007FFA41F07344+20]\n\tRtlUserThreadStart [0x00007FFA421A26B1+33]\n"
     ]
    }
   ],
   "source": [
    "\n",
    "title_1 = '//*[@id=\"mail_list_wrap\"]/ul/li['\n",
    "title_2 = ']/div/div[4]/div/a/span[3]'\n",
    "\n",
    "for i in range(10):\n",
    "    i = str(i+1)\n",
    "    mail_title = driver.find_element(By.XPATH, title_1+i+title_2).click()\n",
    "    print(mail_title)"
   ]
  },
  {
   "cell_type": "code",
   "execution_count": null,
   "metadata": {},
   "outputs": [],
   "source": [
    "//*[@id=\"mail_list_wrap\"]/ul/li[1]/div/div[4]/div/a/span[3]\n",
    "//*[@id=\"mail_list_wrap\"]/ul/li[2]/div/div[4]/div/a/span[3]"
   ]
  }
 ],
 "metadata": {
  "kernelspec": {
   "display_name": "Python 3",
   "language": "python",
   "name": "python3"
  },
  "language_info": {
   "codemirror_mode": {
    "name": "ipython",
    "version": 3
   },
   "file_extension": ".py",
   "mimetype": "text/x-python",
   "name": "python",
   "nbconvert_exporter": "python",
   "pygments_lexer": "ipython3",
   "version": "3.12.2"
  }
 },
 "nbformat": 4,
 "nbformat_minor": 2
}
