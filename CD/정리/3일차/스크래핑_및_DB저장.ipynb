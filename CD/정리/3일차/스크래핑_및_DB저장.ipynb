{
 "cells": [
  {
   "cell_type": "code",
   "execution_count": 59,
   "metadata": {},
   "outputs": [],
   "source": [
    "from bs4 import BeautifulSoup\n",
    "import requests\n",
    "import time\n",
    "import pandas as pd\n",
    "import psycopg2\n",
    "from sqlalchemy import create_engine\n",
    "\n",
    "DB_Name = 'test1'\n",
    "User_Name = 'postgres'\n",
    "Password = 's5764191**'\n",
    "Table_Name = '시가평가액'\n",
    "Host_IP = '127.0.0.1'\n",
    "Port_num = '5432'\n",
    "engine =create_engine(f'postgresql://{User_Name}:{Password}@{Host_IP}:{Port_num}/{DB_Name}')"
   ]
  },
  {
   "cell_type": "code",
   "execution_count": 56,
   "metadata": {},
   "outputs": [
    {
     "name": "stdout",
     "output_type": "stream",
     "text": [
      "  tickers         운용사명        가격\n",
      "0  005930       삼성자산운용  47348.58\n",
      "1  005930     미래에셋자산운용  29574.85\n",
      "2  005930      케이비자산운용  10216.56\n",
      "3  005930     한국투자신탁운용   7413.39\n",
      "4  005930  엔에이치아문디자산운용   6460.89\n",
      "5  005930     교보악사자산운용   5278.20\n",
      "6  005930       신영자산운용   4642.94\n",
      "7  005930     키움투자자산운용   4169.52\n",
      "8  005930       신한자산운용   3906.56\n",
      "9  005930       한화자산운용   3346.18\n"
     ]
    }
   ],
   "source": [
    "url = f'https://comp.fnguide.com/SVO2/ASP/SVD_Main.asp?pGB=1&gicode=A005930&cID=&MenuYn=Y&ReportGB=&NewMenuID=101&stkGb=701'\n",
    "cssc = \"#svdMainGrid3 > table > tbody > tr > th > div\"\n",
    "cssp = \"#svdMainGrid3 > table > tbody > tr > td:nth-child(3)\"\n",
    "resp = requests.get(url)\n",
    "tickers =[]\n",
    "companys = []\n",
    "prices = []\n",
    "if resp.status_code == 200:\n",
    "    bs = BeautifulSoup(resp.text,'html.parser')\n",
    "    company = bs.select(cssc)\n",
    "    price = bs.select(cssp)\n",
    "    for i in range(len(company)):\n",
    "        companys.append(company[i].text)\n",
    "        prices.append(float(price[i].text.replace(',','')))\n",
    "    df = pd.DataFrame({'tickers':'005930','운용사명':companys,'가격':prices})\n",
    "print(df)\n",
    "    # with open(\"asset_management_data.csv\",\"w\") as f:\n",
    "    #     f.write(\"ticker,운용사명,시가평가액\\n\")\n",
    "    #     while i < l:\n",
    "    #         f.write(f'005930,{companys[i]},{prices[i]}\\n')\n",
    "    #         i+=1"
   ]
  },
  {
   "cell_type": "code",
   "execution_count": 60,
   "metadata": {},
   "outputs": [
    {
     "data": {
      "text/plain": [
       "10"
      ]
     },
     "execution_count": 60,
     "metadata": {},
     "output_type": "execute_result"
    }
   ],
   "source": [
    "df.to_sql('test_dvb', engine, if_exists='replace', index=False)"
   ]
  },
  {
   "cell_type": "code",
   "execution_count": 61,
   "metadata": {},
   "outputs": [
    {
     "name": "stdout",
     "output_type": "stream",
     "text": [
      "  tickers         운용사명        가격\n",
      "0  005930       삼성자산운용  47348.58\n",
      "1  005930     미래에셋자산운용  29574.85\n",
      "2  005930      케이비자산운용  10216.56\n",
      "3  005930     한국투자신탁운용   7413.39\n",
      "4  005930  엔에이치아문디자산운용   6460.89\n",
      "5  005930     교보악사자산운용   5278.20\n",
      "6  005930       신영자산운용   4642.94\n",
      "7  005930     키움투자자산운용   4169.52\n",
      "8  005930       신한자산운용   3906.56\n",
      "9  005930       한화자산운용   3346.18\n"
     ]
    }
   ],
   "source": [
    "query = \"SELECT*FROM test_dvb;\"\n",
    "result_df = pd.read_sql_query(query, engine)\n",
    "print(result_df)"
   ]
  }
 ],
 "metadata": {
  "kernelspec": {
   "display_name": "base",
   "language": "python",
   "name": "python3"
  },
  "language_info": {
   "codemirror_mode": {
    "name": "ipython",
    "version": 3
   },
   "file_extension": ".py",
   "mimetype": "text/x-python",
   "name": "python",
   "nbconvert_exporter": "python",
   "pygments_lexer": "ipython3",
   "version": "3.12.3"
  }
 },
 "nbformat": 4,
 "nbformat_minor": 2
}
